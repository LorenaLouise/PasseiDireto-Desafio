{
 "metadata": {
  "language_info": {
   "codemirror_mode": {
    "name": "ipython",
    "version": 3
   },
   "file_extension": ".py",
   "mimetype": "text/x-python",
   "name": "python",
   "nbconvert_exporter": "python",
   "pygments_lexer": "ipython3",
   "version": "3.8.6-final"
  },
  "orig_nbformat": 2,
  "kernelspec": {
   "name": "python38164bitd5bc87fb421e45628329ba83dfedeba2",
   "display_name": "Python 3.8.1 64-bit"
  }
 },
 "nbformat": 4,
 "nbformat_minor": 2,
 "cells": [
  {
   "cell_type": "code",
   "execution_count": 2,
   "metadata": {},
   "outputs": [],
   "source": [
    "from pyspark.sql import SparkSession\n",
    "from pyspark.sql import Window\n",
    "from pyspark.sql import functions\n",
    "from pyspark.sql.functions import *"
   ]
  },
  {
   "cell_type": "code",
   "execution_count": 3,
   "metadata": {},
   "outputs": [],
   "source": [
    "# Criando uma SparkSession. AppName - Identifica o nome do meu app. Master - qtd de partições que o spark irá criar.\n",
    "spark = SparkSession.builder \\\n",
    "    .appName('Case - Parte 2') \\\n",
    "    .master('local[3]') \\\n",
    "    .getOrCreate()"
   ]
  },
  {
   "cell_type": "code",
   "execution_count": 4,
   "metadata": {},
   "outputs": [],
   "source": [
    "#Lendo todos os arquivos json para um único dataFrame, pois todos possuem a mesma estrutura sobre PageViews\n",
    "dfPageViews = spark.read.json(['Datasets - Teste Data Engineer - Passei Direto/BASE B/*.json'])"
   ]
  },
  {
   "cell_type": "code",
   "execution_count": 5,
   "metadata": {},
   "outputs": [
    {
     "output_type": "stream",
     "name": "stdout",
     "text": [
      "root\n |-- Last Accessed Url: string (nullable = true)\n |-- Page Category: string (nullable = true)\n |-- Page Category 1: string (nullable = true)\n |-- Page Category 2: string (nullable = true)\n |-- Page Category 3: string (nullable = true)\n |-- Page Name: string (nullable = true)\n |-- at: string (nullable = true)\n |-- browser: string (nullable = true)\n |-- carrier: string (nullable = true)\n |-- city_name: string (nullable = true)\n |-- clv_total: long (nullable = true)\n |-- country: string (nullable = true)\n |-- custom_1: string (nullable = true)\n |-- custom_2: string (nullable = true)\n |-- custom_3: string (nullable = true)\n |-- custom_4: string (nullable = true)\n |-- device_new: boolean (nullable = true)\n |-- first-accessed-page: string (nullable = true)\n |-- install_uuid: string (nullable = true)\n |-- language: string (nullable = true)\n |-- library_ver: string (nullable = true)\n |-- marketing_campaign: string (nullable = true)\n |-- marketing_medium: string (nullable = true)\n |-- marketing_source: string (nullable = true)\n |-- model: string (nullable = true)\n |-- name: string (nullable = true)\n |-- nth: long (nullable = true)\n |-- os_ver: string (nullable = true)\n |-- platform: string (nullable = true)\n |-- region: string (nullable = true)\n |-- session_uuid: string (nullable = true)\n |-- studentId_clientType: string (nullable = true)\n |-- type: string (nullable = true)\n |-- user_type: string (nullable = true)\n |-- uuid: string (nullable = true)\n\n"
     ]
    }
   ],
   "source": [
    "#Verficar todas as colunas que o dataFrame Possui e seus tipos de dados\n",
    "dfPageViews.printSchema()"
   ]
  },
  {
   "cell_type": "code",
   "execution_count": 6,
   "metadata": {},
   "outputs": [
    {
     "output_type": "execute_result",
     "data": {
      "text/plain": [
       "                                   Last Accessed Url Page Category  \\\n",
       "0                                                  /        perfil   \n",
       "1  /disciplina/estudos-dirigidos-viii?type=6&mate...         busca   \n",
       "2                                     /ranking/curso    disciplina   \n",
       "3                                               None          home   \n",
       "4                                               None    disciplina   \n",
       "5                                               None    disciplina   \n",
       "6                                               None    disciplina   \n",
       "7                                               None    disciplina   \n",
       "8                                               None         busca   \n",
       "9                                               None          home   \n",
       "\n",
       "  Page Category 1                  Page Category 2 Page Category 3  \\\n",
       "0          perfil                        Undefined       Undefined   \n",
       "1           busca                        Undefined       Undefined   \n",
       "2      disciplina                marketing-pessoal       Undefined   \n",
       "3            None                             None            None   \n",
       "4      disciplina                     cinesiologia       Undefined   \n",
       "5      disciplina                  direito-penal-i       Undefined   \n",
       "6      disciplina                         fisica-i       Undefined   \n",
       "7      disciplina  introducao-ao-estudo-de-direito       Undefined   \n",
       "8            None                             None            None   \n",
       "9       Undefined                        Undefined       Undefined   \n",
       "\n",
       "                                           Page Name                   at  \\\n",
       "0                         /perfil/22482764/materiais  2017-11-16 02:10:20   \n",
       "1  /busca?disciplina=686342&disciplina=669865&dis...  2017-11-16 02:10:26   \n",
       "2                      /disciplina/marketing-pessoal  2017-11-16 02:10:22   \n",
       "3                                                  /  2017-11-16 02:10:34   \n",
       "4  /disciplina/cinesiologia?type=6&materialid=175...  2017-11-16 02:10:53   \n",
       "5  /disciplina/direito-penal-i?type=6&materialid=...  2017-11-16 02:10:44   \n",
       "6     /disciplina/fisica-i?type=6&materialid=5191228  2017-11-16 02:10:46   \n",
       "7        /disciplina/introducao-ao-estudo-de-direito  2017-11-16 02:10:53   \n",
       "8                                             /busca  2017-11-16 02:10:54   \n",
       "9                                                  /  2017-11-16 02:11:03   \n",
       "\n",
       "            browser                                            carrier  \\\n",
       "0         Chrome 62                           Telemar Norte Leste S.a.   \n",
       "1        Firefox 56                             Telefonica Brasil S.a.   \n",
       "2         Chrome 61                                   Tim Celular S.a.   \n",
       "3  Mobile Safari 10  Internexa Brasil Operadora De Telecomunicacoes...   \n",
       "4         Chrome 61            Hipernet Servico De Comunicacao Ltda Me   \n",
       "5         Chrome 58                             Telefonica Brasil S.a.   \n",
       "6         Chrome 61                                   Digital Net Ltda   \n",
       "7         Chrome 61                   T-net Wireless E Informa#769tica   \n",
       "8  Mobile Safari 11                                       Claro Brazil   \n",
       "9           Edge 14   Quality Telecom Servicos De Comunicacao Ltda Epp   \n",
       "\n",
       "  city_name  ...       name   nth  os_ver     platform region  \\\n",
       "0      None  ...  Page View  17.0                Linux   None   \n",
       "1      None  ...  Page View  19.0            Windows 7   None   \n",
       "2      None  ...  Page View   2.0            Windows 7   None   \n",
       "3      None  ...  Page View   2.0  10.3.2          iOS   None   \n",
       "4      None  ...  Page View  11.0          Windows 8.1   None   \n",
       "5      None  ...  Page View   6.0            Windows 7   None   \n",
       "6      None  ...  Page View   8.0            Windows 7   None   \n",
       "7      None  ...  Page View   8.0           Windows 10   None   \n",
       "8      None  ...  Page View   1.0  11.1.1          iOS   None   \n",
       "9      None  ...  Page View   2.0           Windows 10   None   \n",
       "\n",
       "                               session_uuid  \\\n",
       "0  188031bec37fc43b737c2c49349076700ae89128   \n",
       "1  e3fe75ffce700fef07fd93e66312117ba008f046   \n",
       "2  e0841700c23ea9aaadf1104690e7d6e12a8a771a   \n",
       "3  318775acadbb0c72430ac2eeb05782589fbd1cf7   \n",
       "4  91bf1fbddb681569c914a8bb05fa0e260d9d92bd   \n",
       "5  d52b6c4881b52297521463e789d6721cb85e08b6   \n",
       "6  af9ab1ed319a1a8a62dc6e39638c7ee743340eb7   \n",
       "7  74c44cbf080da372d3f63ae61bd67ed006f1a2a6   \n",
       "8  0bf547c5ac802a0e0b3e28b8d5e012066fafa9d6   \n",
       "9  943ba5d00ab9607eb2979618e11c10ccec1a17dd   \n",
       "\n",
       "                                studentId_clientType type user_type  \\\n",
       "0  34cbeaf4a28c798de94cd9afb43d4e2e49ce80d6b52364...    e     known   \n",
       "1  23fa8b361cc7ea61dea852d72eba9129f05981077e1f65...    e     known   \n",
       "2  14cc805c72b0eec6292916da59c9c45a8aa621a1138eb6...    e     known   \n",
       "3  98774aeb803eb08e08020309fe8472af79033fbae26ea4...    e     known   \n",
       "4  122ac90aee4fc73660620456712cfea98d7bd720a1fc71...    e     known   \n",
       "5  d799aecbb0a87cdd5412c68172189cc65d84644ac26e34...    e     known   \n",
       "6  ca122c896b84fa32f750f95c9c163d3e1146c63e24f2dd...    e     known   \n",
       "7  e1b0981e40fdef0c39b9e1442ca23aa10eceaee7f1013e...    e     known   \n",
       "8  859fa6b0af443a290eb97b19cc3e16eeea37cc60c05a5d...    e     known   \n",
       "9  344262de5df32d62ccd1592dfd9aa073a584d0fdd1f164...    e     known   \n",
       "\n",
       "                                       uuid  \n",
       "0  1b3ed1360694ceae79f6361ed11b03cf245311c8  \n",
       "1  b0110b5beac39737f52678ffdba6c565bb72d8e2  \n",
       "2  bea05ad3a2fc2b621bcdb048eafa4e70f5344b17  \n",
       "3  a8ee07ca847a3126007ee0f5ceec8d6fa0d92727  \n",
       "4  ad6d53dc93ec8d8c30050f4391c9ecdf7da13710  \n",
       "5  23886a3fe7cb5853b3aeb7f3690c42ae1b31d7f3  \n",
       "6  eacbfbb3d1058820a3679db024155efa9e98230b  \n",
       "7  7314139889cd861e86608797030931d504dda2e7  \n",
       "8  01d36048a25a15778ccda7ffa384bd755b73ae61  \n",
       "9  c70f886f19d653d2e000bba9e855da69acef19be  \n",
       "\n",
       "[10 rows x 35 columns]"
      ],
      "text/html": "<div>\n<style scoped>\n    .dataframe tbody tr th:only-of-type {\n        vertical-align: middle;\n    }\n\n    .dataframe tbody tr th {\n        vertical-align: top;\n    }\n\n    .dataframe thead th {\n        text-align: right;\n    }\n</style>\n<table border=\"1\" class=\"dataframe\">\n  <thead>\n    <tr style=\"text-align: right;\">\n      <th></th>\n      <th>Last Accessed Url</th>\n      <th>Page Category</th>\n      <th>Page Category 1</th>\n      <th>Page Category 2</th>\n      <th>Page Category 3</th>\n      <th>Page Name</th>\n      <th>at</th>\n      <th>browser</th>\n      <th>carrier</th>\n      <th>city_name</th>\n      <th>...</th>\n      <th>name</th>\n      <th>nth</th>\n      <th>os_ver</th>\n      <th>platform</th>\n      <th>region</th>\n      <th>session_uuid</th>\n      <th>studentId_clientType</th>\n      <th>type</th>\n      <th>user_type</th>\n      <th>uuid</th>\n    </tr>\n  </thead>\n  <tbody>\n    <tr>\n      <th>0</th>\n      <td>/</td>\n      <td>perfil</td>\n      <td>perfil</td>\n      <td>Undefined</td>\n      <td>Undefined</td>\n      <td>/perfil/22482764/materiais</td>\n      <td>2017-11-16 02:10:20</td>\n      <td>Chrome 62</td>\n      <td>Telemar Norte Leste S.a.</td>\n      <td>None</td>\n      <td>...</td>\n      <td>Page View</td>\n      <td>17.0</td>\n      <td></td>\n      <td>Linux</td>\n      <td>None</td>\n      <td>188031bec37fc43b737c2c49349076700ae89128</td>\n      <td>34cbeaf4a28c798de94cd9afb43d4e2e49ce80d6b52364...</td>\n      <td>e</td>\n      <td>known</td>\n      <td>1b3ed1360694ceae79f6361ed11b03cf245311c8</td>\n    </tr>\n    <tr>\n      <th>1</th>\n      <td>/disciplina/estudos-dirigidos-viii?type=6&amp;mate...</td>\n      <td>busca</td>\n      <td>busca</td>\n      <td>Undefined</td>\n      <td>Undefined</td>\n      <td>/busca?disciplina=686342&amp;disciplina=669865&amp;dis...</td>\n      <td>2017-11-16 02:10:26</td>\n      <td>Firefox 56</td>\n      <td>Telefonica Brasil S.a.</td>\n      <td>None</td>\n      <td>...</td>\n      <td>Page View</td>\n      <td>19.0</td>\n      <td></td>\n      <td>Windows 7</td>\n      <td>None</td>\n      <td>e3fe75ffce700fef07fd93e66312117ba008f046</td>\n      <td>23fa8b361cc7ea61dea852d72eba9129f05981077e1f65...</td>\n      <td>e</td>\n      <td>known</td>\n      <td>b0110b5beac39737f52678ffdba6c565bb72d8e2</td>\n    </tr>\n    <tr>\n      <th>2</th>\n      <td>/ranking/curso</td>\n      <td>disciplina</td>\n      <td>disciplina</td>\n      <td>marketing-pessoal</td>\n      <td>Undefined</td>\n      <td>/disciplina/marketing-pessoal</td>\n      <td>2017-11-16 02:10:22</td>\n      <td>Chrome 61</td>\n      <td>Tim Celular S.a.</td>\n      <td>None</td>\n      <td>...</td>\n      <td>Page View</td>\n      <td>2.0</td>\n      <td></td>\n      <td>Windows 7</td>\n      <td>None</td>\n      <td>e0841700c23ea9aaadf1104690e7d6e12a8a771a</td>\n      <td>14cc805c72b0eec6292916da59c9c45a8aa621a1138eb6...</td>\n      <td>e</td>\n      <td>known</td>\n      <td>bea05ad3a2fc2b621bcdb048eafa4e70f5344b17</td>\n    </tr>\n    <tr>\n      <th>3</th>\n      <td>None</td>\n      <td>home</td>\n      <td>None</td>\n      <td>None</td>\n      <td>None</td>\n      <td>/</td>\n      <td>2017-11-16 02:10:34</td>\n      <td>Mobile Safari 10</td>\n      <td>Internexa Brasil Operadora De Telecomunicacoes...</td>\n      <td>None</td>\n      <td>...</td>\n      <td>Page View</td>\n      <td>2.0</td>\n      <td>10.3.2</td>\n      <td>iOS</td>\n      <td>None</td>\n      <td>318775acadbb0c72430ac2eeb05782589fbd1cf7</td>\n      <td>98774aeb803eb08e08020309fe8472af79033fbae26ea4...</td>\n      <td>e</td>\n      <td>known</td>\n      <td>a8ee07ca847a3126007ee0f5ceec8d6fa0d92727</td>\n    </tr>\n    <tr>\n      <th>4</th>\n      <td>None</td>\n      <td>disciplina</td>\n      <td>disciplina</td>\n      <td>cinesiologia</td>\n      <td>Undefined</td>\n      <td>/disciplina/cinesiologia?type=6&amp;materialid=175...</td>\n      <td>2017-11-16 02:10:53</td>\n      <td>Chrome 61</td>\n      <td>Hipernet Servico De Comunicacao Ltda Me</td>\n      <td>None</td>\n      <td>...</td>\n      <td>Page View</td>\n      <td>11.0</td>\n      <td></td>\n      <td>Windows 8.1</td>\n      <td>None</td>\n      <td>91bf1fbddb681569c914a8bb05fa0e260d9d92bd</td>\n      <td>122ac90aee4fc73660620456712cfea98d7bd720a1fc71...</td>\n      <td>e</td>\n      <td>known</td>\n      <td>ad6d53dc93ec8d8c30050f4391c9ecdf7da13710</td>\n    </tr>\n    <tr>\n      <th>5</th>\n      <td>None</td>\n      <td>disciplina</td>\n      <td>disciplina</td>\n      <td>direito-penal-i</td>\n      <td>Undefined</td>\n      <td>/disciplina/direito-penal-i?type=6&amp;materialid=...</td>\n      <td>2017-11-16 02:10:44</td>\n      <td>Chrome 58</td>\n      <td>Telefonica Brasil S.a.</td>\n      <td>None</td>\n      <td>...</td>\n      <td>Page View</td>\n      <td>6.0</td>\n      <td></td>\n      <td>Windows 7</td>\n      <td>None</td>\n      <td>d52b6c4881b52297521463e789d6721cb85e08b6</td>\n      <td>d799aecbb0a87cdd5412c68172189cc65d84644ac26e34...</td>\n      <td>e</td>\n      <td>known</td>\n      <td>23886a3fe7cb5853b3aeb7f3690c42ae1b31d7f3</td>\n    </tr>\n    <tr>\n      <th>6</th>\n      <td>None</td>\n      <td>disciplina</td>\n      <td>disciplina</td>\n      <td>fisica-i</td>\n      <td>Undefined</td>\n      <td>/disciplina/fisica-i?type=6&amp;materialid=5191228</td>\n      <td>2017-11-16 02:10:46</td>\n      <td>Chrome 61</td>\n      <td>Digital Net Ltda</td>\n      <td>None</td>\n      <td>...</td>\n      <td>Page View</td>\n      <td>8.0</td>\n      <td></td>\n      <td>Windows 7</td>\n      <td>None</td>\n      <td>af9ab1ed319a1a8a62dc6e39638c7ee743340eb7</td>\n      <td>ca122c896b84fa32f750f95c9c163d3e1146c63e24f2dd...</td>\n      <td>e</td>\n      <td>known</td>\n      <td>eacbfbb3d1058820a3679db024155efa9e98230b</td>\n    </tr>\n    <tr>\n      <th>7</th>\n      <td>None</td>\n      <td>disciplina</td>\n      <td>disciplina</td>\n      <td>introducao-ao-estudo-de-direito</td>\n      <td>Undefined</td>\n      <td>/disciplina/introducao-ao-estudo-de-direito</td>\n      <td>2017-11-16 02:10:53</td>\n      <td>Chrome 61</td>\n      <td>T-net Wireless E Informa#769tica</td>\n      <td>None</td>\n      <td>...</td>\n      <td>Page View</td>\n      <td>8.0</td>\n      <td></td>\n      <td>Windows 10</td>\n      <td>None</td>\n      <td>74c44cbf080da372d3f63ae61bd67ed006f1a2a6</td>\n      <td>e1b0981e40fdef0c39b9e1442ca23aa10eceaee7f1013e...</td>\n      <td>e</td>\n      <td>known</td>\n      <td>7314139889cd861e86608797030931d504dda2e7</td>\n    </tr>\n    <tr>\n      <th>8</th>\n      <td>None</td>\n      <td>busca</td>\n      <td>None</td>\n      <td>None</td>\n      <td>None</td>\n      <td>/busca</td>\n      <td>2017-11-16 02:10:54</td>\n      <td>Mobile Safari 11</td>\n      <td>Claro Brazil</td>\n      <td>None</td>\n      <td>...</td>\n      <td>Page View</td>\n      <td>1.0</td>\n      <td>11.1.1</td>\n      <td>iOS</td>\n      <td>None</td>\n      <td>0bf547c5ac802a0e0b3e28b8d5e012066fafa9d6</td>\n      <td>859fa6b0af443a290eb97b19cc3e16eeea37cc60c05a5d...</td>\n      <td>e</td>\n      <td>known</td>\n      <td>01d36048a25a15778ccda7ffa384bd755b73ae61</td>\n    </tr>\n    <tr>\n      <th>9</th>\n      <td>None</td>\n      <td>home</td>\n      <td>Undefined</td>\n      <td>Undefined</td>\n      <td>Undefined</td>\n      <td>/</td>\n      <td>2017-11-16 02:11:03</td>\n      <td>Edge 14</td>\n      <td>Quality Telecom Servicos De Comunicacao Ltda Epp</td>\n      <td>None</td>\n      <td>...</td>\n      <td>Page View</td>\n      <td>2.0</td>\n      <td></td>\n      <td>Windows 10</td>\n      <td>None</td>\n      <td>943ba5d00ab9607eb2979618e11c10ccec1a17dd</td>\n      <td>344262de5df32d62ccd1592dfd9aa073a584d0fdd1f164...</td>\n      <td>e</td>\n      <td>known</td>\n      <td>c70f886f19d653d2e000bba9e855da69acef19be</td>\n    </tr>\n  </tbody>\n</table>\n<p>10 rows × 35 columns</p>\n</div>"
     },
     "metadata": {},
     "execution_count": 6
    }
   ],
   "source": [
    "#Inspecionando os dados\n",
    "dfPageViews.toPandas().head(10)"
   ]
  },
  {
   "cell_type": "code",
   "execution_count": 7,
   "metadata": {},
   "outputs": [
    {
     "output_type": "stream",
     "name": "stdout",
     "text": [
      "+--------------------+-----+\n|     Page Category 2|count|\n+--------------------+-----+\n|            seguindo| 3323|\n|matematica-financ...| 2629|\n|       direito-penal| 2245|\n|       administracao| 1980|\n|    ciencia-politica| 1963|\n| gestao-da-qualidade| 1912|\n|          bioquimica| 1830|\n|metodologia-cient...| 1828|\n|       direito-civil| 1765|\n|           pedagogia| 1757|\n|   direito-penal-iii| 1757|\n|     direito-penal-i| 1711|\n|fenomenos-dos-tra...| 1672|\n|             direito| 1635|\n|    direito-penal-ii| 1599|\n|   fisiologia-humana| 1556|\n|introducao-a-admi...| 1530|\n|contabilidade---c...| 1515|\n|direito-constituc...| 1445|\n|gestao-da-cadeia-...| 1439|\n+--------------------+-----+\nonly showing top 20 rows\n\n"
     ]
    }
   ],
   "source": [
    "#Quais disciplinas os usuários mais acessaram esse mês?\n",
    "dfPageViews.filter(dfPageViews['Page Category 1'] == 'disciplina') \\\n",
    "    .groupBy(\"Page Category 2\") \\\n",
    "        .count().sort(col(\"count\").desc())\\\n",
    "            .show()\n"
   ]
  },
  {
   "cell_type": "code",
   "execution_count": 8,
   "metadata": {},
   "outputs": [
    {
     "output_type": "stream",
     "name": "stdout",
     "text": [
      "+--------------+\n|platform      |\n+--------------+\n|Windows 10    |\n|Windows 8     |\n|iOS           |\n|Windows 8.1   |\n|Linux         |\n|Windows 2000  |\n|Other         |\n|Windows RT    |\n|Fedora        |\n|Windows Vista |\n|Chrome OS     |\n|BlackBerry OS |\n|Ubuntu        |\n|Windows Phone |\n|Android       |\n|Windows XP    |\n|Windows 7     |\n|Windows RT 8.1|\n|Mac OS X      |\n+--------------+\n\n"
     ]
    }
   ],
   "source": [
    "#Por quais plataformas que os usuários acessam ?\n",
    "dfPageViews.select(\"platform\").distinct().show(truncate=False)"
   ]
  },
  {
   "cell_type": "code",
   "execution_count": 9,
   "metadata": {},
   "outputs": [
    {
     "output_type": "stream",
     "name": "stdout",
     "text": [
      "+--------------+------+\n|      platform| count|\n+--------------+------+\n|     Windows 7|292842|\n|    Windows 10|239121|\n|   Windows 8.1| 58443|\n|       Android| 54825|\n|           iOS| 18544|\n|     Windows 8| 11164|\n|      Mac OS X|  7990|\n|    Windows XP|  6851|\n|         Linux|  4060|\n|        Ubuntu|  2099|\n| Windows Phone|  1130|\n| Windows Vista|   875|\n|     Chrome OS|   848|\n|    Windows RT|    51|\n|        Fedora|    46|\n|         Other|    40|\n|Windows RT 8.1|     6|\n|  Windows 2000|     5|\n| BlackBerry OS|     2|\n+--------------+------+\n\n"
     ]
    }
   ],
   "source": [
    "#Qual plataforma mais utilizam ao acessar o PasseiDireto\n",
    "dfPageViews.groupBy(\"platform\") \\\n",
    "        .count().sort(col(\"count\").desc())\\\n",
    "            .show()"
   ]
  },
  {
   "cell_type": "code",
   "execution_count": 10,
   "metadata": {},
   "outputs": [
    {
     "output_type": "execute_result",
     "data": {
      "text/plain": [
       "[Row(studentId_clientType='128ce8b5dbec4fabac5b5b1d457ea36f0cddd2ea46ae1a7e5921ff97714030f0@Website'),\n",
       " Row(studentId_clientType='bd9da6395c2ed8fa60f98afca69b838c19ec13436e504fe644b2442d1d4c879b@Website'),\n",
       " Row(studentId_clientType='d094824fca5c0022eca647a0e6511aebda1aef684d9dc3e8952f91a2df283b8f@Website'),\n",
       " Row(studentId_clientType='ac6f809c2f3ad6b535808d81beaddf8fb873db75c8bde3b1478e7bab5f53775f@Website'),\n",
       " Row(studentId_clientType='bdfed2849b252d44ea12352dc8b82874148ca8175bd91d0ce18ab2e48a39264e@Website'),\n",
       " Row(studentId_clientType='6e4028ec6bda9b6072ffac3d988d502473d8788e6b640fe85e766a6eabb8b273@Website'),\n",
       " Row(studentId_clientType='e09a9098a5e26f3ad53eb32da36894aa3e462109cca36fa8790efdf59b26e37e@Website'),\n",
       " Row(studentId_clientType='e9ffbf05f681c55fa5986ed2451565c5c077678d4edc7cd6e3c71e43fa25a740@Website'),\n",
       " Row(studentId_clientType='c302f85e299a7a39774a2caf652a4bb8ea3355e37a53b0d31a0817387a3cb37a@Website'),\n",
       " Row(studentId_clientType='421ce66f8d68668db0b760b2a4b2cc8ca2a74658d6589213f381007ded65d58d@Website')]"
      ]
     },
     "metadata": {},
     "execution_count": 10
    }
   ],
   "source": [
    "#Para cruzar os dados com Students.json, é necessário retirar o final : @Website ou @Webapp. Antes de fazer essa etapa, eu havia realizado o join e não houve efeito.O motivo está nessa linha.\n",
    "dfPageViews.select('studentId_clientType').distinct().limit(10).collect()"
   ]
  },
  {
   "cell_type": "code",
   "execution_count": 11,
   "metadata": {},
   "outputs": [
    {
     "output_type": "execute_result",
     "data": {
      "text/plain": [
       "[Row(studentId='34cbeaf4a28c798de94cd9afb43d4e2e49ce80d6b52364e097371db586d4ea48')]"
      ]
     },
     "metadata": {},
     "execution_count": 11
    }
   ],
   "source": [
    "#A A função irá criar 2 colunas novas ao dataFrame\n",
    "dfPageViews=dfPageViews.withColumn(\"studentId\",split(col(\"studentId_clientType\"),\"@\").getItem(0)) \\\n",
    "        .withColumn(\"clientType\",split(col(\"studentId_clientType\"),\"@\").getItem(1))\n",
    "\n",
    "dfPageViews.select('studentId').limit(1).collect()"
   ]
  },
  {
   "cell_type": "code",
   "execution_count": 12,
   "metadata": {},
   "outputs": [
    {
     "output_type": "stream",
     "name": "stdout",
     "text": [
      "+----------+------+\n|clientType| count|\n+----------+------+\n|   Website|577073|\n|      null| 65750|\n|    Webapp| 56119|\n+----------+------+\n\n"
     ]
    }
   ],
   "source": [
    "#Por qual Client os usuários mais navegam ? Podemos analisar aqui por onde o consumo e navegação é maior.\n",
    "dfPageViews.groupBy(\"clientType\") \\\n",
    "        .count().sort(col(\"count\").desc())\\\n",
    "            .show()"
   ]
  },
  {
   "cell_type": "code",
   "execution_count": 13,
   "metadata": {},
   "outputs": [],
   "source": [
    "subscriptions = spark.read.json(['Datasets - Teste Data Engineer - Passei Direto/BASE A/subscriptions.json'])"
   ]
  },
  {
   "cell_type": "code",
   "execution_count": 14,
   "metadata": {},
   "outputs": [],
   "source": [
    "left_join =  dfPageViews.join(subscriptions, dfPageViews.studentId == subscriptions.StudentId,how='left' )\n"
   ]
  },
  {
   "cell_type": "code",
   "execution_count": 15,
   "metadata": {},
   "outputs": [
    {
     "output_type": "execute_result",
     "data": {
      "text/plain": [
       "[Row(Last Accessed Url='/', Page Category='perfil', Page Category 1='perfil', Page Category 2='Undefined', Page Category 3='Undefined', Page Name='/perfil/22482764/materiais', at='2017-11-16 02:10:20', browser='Chrome 62', carrier='Telemar Norte Leste S.a.', city_name=None, clv_total=None, country='br', custom_1='ESTÁCIO EAD', custom_2='Pedagogia', custom_3=None, custom_4='Core User', device_new=False, first-accessed-page=None, install_uuid='fdfff303505f8a18b17ee40587e785f6bb9c8374', language='pt', library_ver='web_3.3.3', marketing_campaign=None, marketing_medium=None, marketing_source=None, model='Linux armv7l', name='Page View', nth=17, os_ver='', platform='Linux', region=None, session_uuid='188031bec37fc43b737c2c49349076700ae89128', studentId_clientType='34cbeaf4a28c798de94cd9afb43d4e2e49ce80d6b52364e097371db586d4ea48@Website', type='e', user_type='known', uuid='1b3ed1360694ceae79f6361ed11b03cf245311c8', studentId='34cbeaf4a28c798de94cd9afb43d4e2e49ce80d6b52364e097371db586d4ea48', clientType='Website', PaymentDate=None, PlanType=None, StudentId=None)]"
      ]
     },
     "metadata": {},
     "execution_count": 15
    }
   ],
   "source": [
    "left_join.limit(1).collect()"
   ]
  },
  {
   "cell_type": "code",
   "execution_count": 16,
   "metadata": {},
   "outputs": [
    {
     "output_type": "stream",
     "name": "stdout",
     "text": [
      "+--------+------+\n|PlanType| count|\n+--------+------+\n|    null|696407|\n|  Mensal|  2314|\n|   Anual|   222|\n+--------+------+\n\n"
     ]
    }
   ],
   "source": [
    "#Consigo Entender o comportamento dos usuários de acordo com o plano.\n",
    "left_join.groupBy(\"PlanType\") \\\n",
    "        .count().sort(col(\"count\").desc())\\\n",
    "            .show()\n"
   ]
  },
  {
   "cell_type": "code",
   "execution_count": 25,
   "metadata": {},
   "outputs": [
    {
     "output_type": "stream",
     "name": "stdout",
     "text": [
      "+--------------------+-----+\n|            custom_2|count|\n+--------------------+-----+\n|             Direito|  392|\n|           Pedagogia|  333|\n|       Administração|  269|\n|            Nutrição|  112|\n|Engenharia de Pro...|  110|\n|Contabilidade / C...|  105|\n|                null|   84|\n|Gestão de Comérci...|   81|\n| Engenharia Elétrica|   69|\n|   Gestão Financeira|   60|\n|           Logística|   58|\n|Enfermagem e Obst...|   57|\n|Gestão da Informação|   48|\n|Análise e Desenvo...|   45|\n|Gestão de Process...|   38|\n|Sistemas de Infor...|   37|\n|Letras - Portuguê...|   30|\n|    Engenharia Civil|   28|\n|Gestão da Tecnolo...|   28|\n|         Odontologia|   27|\n+--------------------+-----+\nonly showing top 20 rows\n\n"
     ]
    }
   ],
   "source": [
    "#Consigo identificar o que meus usuários de planos mensais ou anuais geralmente acessam , o que mais acessaram esse mês.\n",
    "left_join.filter(left_join['PlanType'] == 'Mensal') \\\n",
    "    .groupBy(\"custom_2\") \\\n",
    "        .count().sort(col(\"count\").desc())\\\n",
    "            .show()"
   ]
  }
 ]
}